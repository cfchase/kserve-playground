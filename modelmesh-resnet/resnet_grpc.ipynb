{
 "cells": [
  {
   "cell_type": "markdown",
   "id": "f73046ff",
   "metadata": {},
   "source": [
    "# GRPC Inference"
   ]
  },
  {
   "cell_type": "markdown",
   "id": "443e7e73-24cb-4f03-9491-a6edcc24f0cc",
   "metadata": {
    "tags": []
   },
   "source": [
    "### Setup"
   ]
  },
  {
   "cell_type": "code",
   "execution_count": 1,
   "id": "db9df000-a171-4652-8160-272f81e49612",
   "metadata": {},
   "outputs": [
    {
     "name": "stdout",
     "output_type": "stream",
     "text": [
      "Requirement already satisfied: grpcio in /opt/app-root/lib/python3.9/site-packages (1.56.0)\n",
      "Requirement already satisfied: grpcio-tools in /opt/app-root/lib/python3.9/site-packages (1.56.0)\n",
      "Requirement already satisfied: opencv-python-headless in /opt/app-root/lib/python3.9/site-packages (4.8.0.74)\n",
      "Requirement already satisfied: protobuf<5.0dev,>=4.21.6 in /opt/app-root/lib/python3.9/site-packages (from grpcio-tools) (4.23.4)\n",
      "Requirement already satisfied: setuptools in /opt/app-root/lib/python3.9/site-packages (from grpcio-tools) (67.8.0)\n",
      "Requirement already satisfied: numpy>=1.17.0 in /opt/app-root/lib/python3.9/site-packages (from opencv-python-headless) (1.24.3)\n"
     ]
    }
   ],
   "source": [
    "!pip install grpcio grpcio-tools opencv-python-headless"
   ]
  },
  {
   "cell_type": "code",
   "execution_count": 2,
   "id": "1d17b252-7827-4cae-adb0-f98c9d80bcd7",
   "metadata": {},
   "outputs": [],
   "source": [
    "grpc_host = 'modelmesh-serving'\n",
    "grpc_port = 8033\n",
    "model_name = 'resnet'\n",
    "image_path = 'images/bee.jpeg'\n",
    "input_name = \"gpu_0/data_0\""
   ]
  },
  {
   "cell_type": "code",
   "execution_count": 3,
   "id": "545aa5f4-356f-4e70-b7e6-cd352a68927a",
   "metadata": {},
   "outputs": [
    {
     "data": {
      "text/plain": [
       "name: \"resnet__isvc-e06002a97f\"\n",
       "versions: \"1\"\n",
       "platform: \"OpenVINO\"\n",
       "inputs {\n",
       "  name: \"gpu_0/data_0\"\n",
       "  datatype: \"FP32\"\n",
       "  shape: -1\n",
       "  shape: 3\n",
       "  shape: 224\n",
       "  shape: 224\n",
       "}\n",
       "outputs {\n",
       "  name: \"gpu_0/softmax_1\"\n",
       "  datatype: \"FP32\"\n",
       "  shape: 1\n",
       "  shape: 1000\n",
       "}"
      ]
     },
     "execution_count": 3,
     "metadata": {},
     "output_type": "execute_result"
    }
   ],
   "source": [
    "import grpc\n",
    "import grpc_predict_v2_pb2\n",
    "import grpc_predict_v2_pb2_grpc\n",
    "\n",
    "\n",
    "channel = grpc.insecure_channel(f\"{grpc_host}:{grpc_port}\")\n",
    "stub = grpc_predict_v2_pb2_grpc.GRPCInferenceServiceStub(channel)\n",
    "\n",
    "request = grpc_predict_v2_pb2.ModelMetadataRequest(name=model_name)\n",
    "response = stub.ModelMetadata(request)\n",
    "response"
   ]
  },
  {
   "cell_type": "markdown",
   "id": "2f645a20-61cc-4180-a642-3e875f04b9a2",
   "metadata": {},
   "source": [
    "### Preprocess image"
   ]
  },
  {
   "cell_type": "code",
   "execution_count": 4,
   "id": "ce3eacd4-5dda-4311-9e9d-35a1bc6e137f",
   "metadata": {},
   "outputs": [],
   "source": [
    "import numpy as np\n",
    "import cv2\n",
    "\n",
    "def preprocess(img_data):\n",
    "    mean_vec = np.array([0.485, 0.456, 0.406])\n",
    "    stddev_vec = np.array([0.229, 0.224, 0.225])\n",
    "    norm_img_data = np.zeros(img_data.shape).astype('float32')\n",
    "    for i in range(img_data.shape[0]):\n",
    "        # for each pixel in each channel, divide the value by 255 to get value between [0, 1] and then normalize\n",
    "        norm_img_data[i,:,:] = (img_data[i,:,:]/255 - mean_vec[i]) / stddev_vec[i]\n",
    "    return norm_img_data\n",
    "\n",
    "def getJpeg(path, size):\n",
    "    with open(path, mode='rb') as file:\n",
    "        content = file.read()\n",
    "\n",
    "    img = np.frombuffer(content, dtype=np.uint8)\n",
    "    img = cv2.imdecode(img, cv2.IMREAD_COLOR)  # BGR format\n",
    "    # format of data is HWC\n",
    "    # add image preprocessing if needed by the model\n",
    "    img = cv2.resize(img, (224, 224))\n",
    "    img = img.astype('float32')\n",
    "    #convert to NCHW\n",
    "    img = img.transpose(2,0,1)\n",
    "    # normalize to adjust to model training dataset\n",
    "    img = preprocess(img)\n",
    "    img = img.reshape(1,3,size,size)\n",
    "    print(path, img.shape, \"; data range:\",np.amin(img),\":\",np.amax(img))\n",
    "    return img\n",
    "\n"
   ]
  },
  {
   "cell_type": "code",
   "execution_count": 5,
   "id": "e1bd11c7-9986-4564-a87d-5851cf9f8985",
   "metadata": {},
   "outputs": [
    {
     "name": "stdout",
     "output_type": "stream",
     "text": [
      "images/bee.jpeg (1, 3, 224, 224) ; data range: -2.117904 : 2.64\n"
     ]
    }
   ],
   "source": [
    "img = getJpeg(image_path, 224)"
   ]
  },
  {
   "cell_type": "markdown",
   "id": "fd5affbf-36c3-4e17-9788-5fc0904de143",
   "metadata": {},
   "source": [
    "### Request"
   ]
  },
  {
   "cell_type": "code",
   "execution_count": 6,
   "id": "67c1d001-ff99-414a-95d4-5729d5849298",
   "metadata": {},
   "outputs": [
    {
     "name": "stdout",
     "output_type": "stream",
     "text": [
      "Request took 0.07062077522277832\n"
     ]
    }
   ],
   "source": [
    "import time\n",
    "\n",
    "# request content building\n",
    "inputs = []\n",
    "inputs.append(grpc_predict_v2_pb2.ModelInferRequest().InferInputTensor())\n",
    "inputs[0].name = input_name\n",
    "inputs[0].datatype = \"FP32\"\n",
    "inputs[0].shape.extend([1, 3, 224, 224])\n",
    "arr = img.flatten()\n",
    "inputs[0].contents.fp32_contents.extend(arr)\n",
    "\n",
    "# request building\n",
    "request = grpc_predict_v2_pb2.ModelInferRequest()\n",
    "request.model_name = model_name\n",
    "request.inputs.extend(inputs)\n",
    "\n",
    "t1 = time.time()\n",
    "response = stub.ModelInfer(request)\n",
    "t2 = time.time()\n",
    "inference_time = t2-t1\n",
    "print(f\"Request took {inference_time}\")"
   ]
  },
  {
   "cell_type": "code",
   "execution_count": 8,
   "id": "b4adbaca-987e-4a27-be1f-3e6c9af3b95a",
   "metadata": {},
   "outputs": [
    {
     "name": "stdout",
     "output_type": "stream",
     "text": [
      "Highest score: class 309 with score -1.741159439086914\n",
      "Detected class name: bee\n"
     ]
    }
   ],
   "source": [
    "import classes\n",
    "\n",
    "result_arr = np.frombuffer(response.raw_output_contents[0], dtype=np.float32)\n",
    "max = np.argmax(result_arr)\n",
    "print(\"Highest score: class {} with score {}\".format(max, arr[max]))\n",
    "print(\"Detected class name: {}\".format(classes.imagenet_classes[max]))\n"
   ]
  },
  {
   "cell_type": "code",
   "execution_count": null,
   "id": "12947866-e0f5-4c72-ba9a-04229b1af990",
   "metadata": {},
   "outputs": [],
   "source": []
  }
 ],
 "metadata": {
  "kernelspec": {
   "display_name": "Python 3.9.16",
   "language": "python",
   "name": "python3"
  },
  "language_info": {
   "codemirror_mode": {
    "name": "ipython",
    "version": 3
   },
   "file_extension": ".py",
   "mimetype": "text/x-python",
   "name": "python",
   "nbconvert_exporter": "python",
   "pygments_lexer": "ipython3",
   "version": "3.9.16"
  }
 },
 "nbformat": 4,
 "nbformat_minor": 5
}

{
 "cells": [
  {
   "cell_type": "markdown",
   "id": "0a46ce0a-5a4e-4f5b-8b74-f1e65359e400",
   "metadata": {},
   "source": [
    "# Test interactive client connecting to a running Ray cluster"
   ]
  },
  {
   "cell_type": "markdown",
   "id": "10f1a602-9b8e-4a30-990a-e60858068a52",
   "metadata": {
    "tags": []
   },
   "source": [
    "## Setup"
   ]
  },
  {
   "cell_type": "code",
   "execution_count": null,
   "id": "d5a9b479-5e74-4c6d-99ca-d7acece65367",
   "metadata": {
    "tags": []
   },
   "outputs": [],
   "source": [
    "!pip install ray"
   ]
  },
  {
   "cell_type": "markdown",
   "id": "46244b52-70c4-4f6d-a5c8-20058ac17dfa",
   "metadata": {},
   "source": [
    "## Local Ray clusters"
   ]
  },
  {
   "cell_type": "code",
   "execution_count": null,
   "id": "4c763bc0-ac73-41ae-8dc1-fef5f941cc3f",
   "metadata": {},
   "outputs": [],
   "source": [
    "import os\n",
    "import time\n",
    "import logging\n",
    "import math\n",
    "import random\n",
    "\n",
    "from pathlib import Path\n",
    "from typing import Tuple, List\n",
    "\n",
    "import numpy as np\n",
    "import pandas as pd\n",
    "import pyarrow.parquet as pq\n",
    "import tqdm\n",
    "import ray\n",
    "\n",
    "if ray.is_initialized:\n",
    "    ray.shutdown()\n",
    "ray.init(logging_level=logging.ERROR)"
   ]
  },
  {
   "cell_type": "code",
   "execution_count": null,
   "id": "390191bd-a7ec-4d73-acee-6d9077c415b9",
   "metadata": {},
   "outputs": [],
   "source": [
    "import ray\n",
    "import os\n",
    "\n",
    "@ray.remote\n",
    "class Counter:\n",
    "    def __init__(self):\n",
    "        self.counter = 0\n",
    "\n",
    "    def inc(self):\n",
    "        self.counter += 1\n",
    "\n",
    "    def get_counter(self):\n",
    "        return self.counter\n",
    "\n",
    "\n",
    "counter = Counter.remote()\n",
    "\n",
    "for _ in range(5):\n",
    "    ray.get(counter.inc.remote())\n",
    "    print(ray.get(counter.get_counter.remote()))\n"
   ]
  },
  {
   "cell_type": "code",
   "execution_count": null,
   "id": "a04b61b0-59af-49a6-8e93-1ae7531c4430",
   "metadata": {},
   "outputs": [],
   "source": [
    "ray.shutdown()"
   ]
  },
  {
   "cell_type": "markdown",
   "id": "bba555ba-020c-4d1a-8172-7f7c1f2f2b93",
   "metadata": {},
   "source": [
    "## Remote Ray Clusters"
   ]
  },
  {
   "cell_type": "markdown",
   "id": "ecda4932-bb59-4865-aecd-4a75b40b0644",
   "metadata": {},
   "source": [
    "### Use Kube service corresponding to the Ray cluster"
   ]
  },
  {
   "cell_type": "code",
   "execution_count": null,
   "id": "d996bfae-7981-40d5-920b-d042904a4fec",
   "metadata": {},
   "outputs": [],
   "source": [
    "RAY_DASHBOARD = \"http://raycluster-codeflare-head-svc:8265\"\n",
    "RAY_ADDRESS = \"ray://raycluster-codeflare-head-svc:10001\""
   ]
  },
  {
   "cell_type": "code",
   "execution_count": null,
   "id": "dedc9f49-ab85-49aa-b911-3d2a3ca36f83",
   "metadata": {},
   "outputs": [],
   "source": [
    "ray.init(\n",
    "    RAY_ADDRESS\n",
    ")"
   ]
  },
  {
   "cell_type": "code",
   "execution_count": null,
   "id": "ed178213-b5dd-4e9f-b5b1-0daa92685a0c",
   "metadata": {},
   "outputs": [],
   "source": [
    "counter = Counter.remote()\n",
    "\n",
    "for _ in range(5):\n",
    "    ray.get(counter.inc.remote())\n",
    "    print(ray.get(counter.get_counter.remote()))"
   ]
  },
  {
   "cell_type": "code",
   "execution_count": null,
   "id": "e697c2a7-ed06-40a4-b307-74e295d1a217",
   "metadata": {},
   "outputs": [],
   "source": [
    "ray.shutdown()"
   ]
  },
  {
   "cell_type": "code",
   "execution_count": null,
   "id": "85fce214-097f-4771-99f1-e2ddc24c3f91",
   "metadata": {},
   "outputs": [],
   "source": []
  }
 ],
 "metadata": {
  "kernelspec": {
   "display_name": "Python 3 (ipykernel)",
   "language": "python",
   "name": "python3"
  },
  "language_info": {
   "codemirror_mode": {
    "name": "ipython",
    "version": 3
   },
   "file_extension": ".py",
   "mimetype": "text/x-python",
   "name": "python",
   "nbconvert_exporter": "python",
   "pygments_lexer": "ipython3",
   "version": "3.9.14"
  }
 },
 "nbformat": 4,
 "nbformat_minor": 5
}

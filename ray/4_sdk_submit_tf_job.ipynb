{
 "cells": [
  {
   "cell_type": "markdown",
   "id": "91de7964-c110-4c18-8849-85af0eaa451c",
   "metadata": {},
   "source": [
    "# Test submitting jobs to a running Ray cluster"
   ]
  },
  {
   "cell_type": "markdown",
   "id": "e2596f8c-0e7d-489b-acab-f1f36ddc38ad",
   "metadata": {
    "tags": []
   },
   "source": [
    "## Setup"
   ]
  },
  {
   "cell_type": "code",
   "execution_count": null,
   "id": "10c08aae-b802-43a4-bb4a-39159b874f79",
   "metadata": {
    "tags": []
   },
   "outputs": [],
   "source": [
    "!pip install ray"
   ]
  },
  {
   "cell_type": "markdown",
   "id": "b81851e9-c1b8-4821-a312-9a5beaf802be",
   "metadata": {},
   "source": [
    "## Upload Data to S3"
   ]
  },
  {
   "cell_type": "code",
   "execution_count": null,
   "id": "bca567c5-b48e-443f-940b-debe9e272480",
   "metadata": {},
   "outputs": [],
   "source": [
    "import os\n",
    "import boto3\n",
    "import botocore\n",
    "\n",
    "aws_access_key_id = os.environ.get('AWS_ACCESS_KEY_ID')\n",
    "aws_secret_access_key = os.environ.get('AWS_SECRET_ACCESS_KEY')\n",
    "endpoint_url = os.environ.get('AWS_S3_ENDPOINT')\n",
    "region_name = os.environ.get('AWS_DEFAULT_REGION')\n",
    "bucket_name = os.environ.get('AWS_S3_BUCKET')\n",
    "\n",
    "session = boto3.session.Session(aws_access_key_id=aws_access_key_id,\n",
    "                                aws_secret_access_key=aws_secret_access_key)\n",
    "\n",
    "s3_resource = session.resource(\n",
    "    's3',\n",
    "    config=botocore.client.Config(signature_version='s3v4'),\n",
    "    endpoint_url=endpoint_url,\n",
    "    region_name=region_name)\n",
    "\n",
    "bucket = s3_resource.Bucket(bucket_name)\n",
    "\n",
    "\n",
    "def upload_directory_to_s3(local_directory, s3_prefix):\n",
    "    for root, dirs, files in os.walk(local_directory):\n",
    "        for filename in files:\n",
    "            file_path = os.path.join(root, filename)\n",
    "            relative_path = os.path.relpath(file_path, local_directory)\n",
    "            s3_key = os.path.join(s3_prefix, relative_path)\n",
    "            print(f\"{file_path} -> {s3_key}\")\n",
    "            bucket.upload_file(file_path, s3_key)\n",
    "\n",
    "def list_objects(prefix):\n",
    "    filter = bucket.objects.filter(Prefix=prefix)\n",
    "    for obj in filter.all():\n",
    "        print(obj.key)\n",
    "        \n",
    "upload_directory_to_s3(\"./data\", \"data\")\n",
    "list_objects(\"data\")"
   ]
  },
  {
   "cell_type": "markdown",
   "id": "8b58f059-4d66-43bc-8f6f-1b5566a9100f",
   "metadata": {},
   "source": [
    "### Use Kube service corresponding to the Ray cluster"
   ]
  },
  {
   "cell_type": "code",
   "execution_count": null,
   "id": "4ccb04ef-abea-4a53-a0ab-026f5d7beb77",
   "metadata": {},
   "outputs": [],
   "source": [
    "RAY_DASHBOARD = \"http://raycluster-codeflare-head-svc:8265\"\n",
    "SCRIPT = \"fraud_detection_train.py\""
   ]
  },
  {
   "cell_type": "markdown",
   "id": "e50c1c64-f26f-4d12-b75e-f75a982bfb24",
   "metadata": {},
   "source": [
    "## Testing TensorFlow Jobs"
   ]
  },
  {
   "cell_type": "code",
   "execution_count": null,
   "id": "852698c3-dd36-4398-be0f-c5e578dd7ed9",
   "metadata": {},
   "outputs": [],
   "source": [
    "from ray.job_submission import JobSubmissionClient, JobStatus\n",
    "import time\n",
    "import os\n",
    "\n",
    "aws_access_key_id = os.environ.get('AWS_ACCESS_KEY_ID')\n",
    "aws_secret_access_key = os.environ.get('AWS_SECRET_ACCESS_KEY')\n",
    "endpoint_url = os.environ.get('AWS_S3_ENDPOINT')\n",
    "region_name = os.environ.get('AWS_DEFAULT_REGION')\n",
    "bucket_name = os.environ.get('AWS_S3_BUCKET')\n",
    "\n",
    "pip = [\n",
    "    \"boto3\", \n",
    "    \"botocore\", \n",
    "    \"tensorflow==2.13.1\", \n",
    "    \"pandas\", \n",
    "    \"scikit-learn\",\n",
    "    \n",
    "]\n",
    "\n",
    "runtime_env={\n",
    "    \"working_dir\": \"scripts/\",\n",
    "    \"excludes\": [\"data/\"],\n",
    "    \"pip\": pip,\n",
    "    \"env_vars\": {\n",
    "        \"AWS_ACCESS_KEY_ID\": os.environ.get('AWS_ACCESS_KEY_ID'),\n",
    "        \"AWS_SECRET_ACCESS_KEY\": os.environ.get('AWS_SECRET_ACCESS_KEY'),\n",
    "        \"AWS_S3_ENDPOINT\": os.environ.get('AWS_S3_ENDPOINT'),\n",
    "        \"AWS_DEFAULT_REGION\": os.environ.get('AWS_DEFAULT_REGION'),\n",
    "        \"AWS_S3_BUCKET\": os.environ.get('AWS_S3_BUCKET')\n",
    "    },\n",
    "}\n",
    "\n",
    "# If using a remote cluster, replace 127.0.0.1 with the head node's IP address.\n",
    "client = JobSubmissionClient(RAY_DASHBOARD)\n",
    "job_id = client.submit_job(\n",
    "    # Entrypoint shell command to execute\n",
    "    entrypoint=f\"python {SCRIPT}\",\n",
    "    # Path to the local directory that contains the script.py file\n",
    "    runtime_env=runtime_env\n",
    ")\n",
    "print(job_id)\n",
    "\n",
    "def wait_until_status(job_id, status_to_wait_for, timeout_seconds=5):\n",
    "    start = time.time()\n",
    "    while time.time() - start <= timeout_seconds:\n",
    "        status = client.get_job_status(job_id)\n",
    "        print(f\"status: {status}\")\n",
    "        if status in status_to_wait_for:\n",
    "            break\n",
    "        time.sleep(1)\n",
    "\n",
    "\n",
    "wait_until_status(job_id, {JobStatus.SUCCEEDED, JobStatus.STOPPED, JobStatus.FAILED})"
   ]
  },
  {
   "cell_type": "code",
   "execution_count": null,
   "id": "e98bd7af-3688-47cc-aeba-0f34ba36d37c",
   "metadata": {},
   "outputs": [],
   "source": [
    "logs = client.get_job_logs(job_id)\n",
    "print(logs)"
   ]
  },
  {
   "cell_type": "code",
   "execution_count": null,
   "id": "fec5c9ee-74e4-436c-a2c6-5d1ed3e62ea5",
   "metadata": {},
   "outputs": [],
   "source": []
  }
 ],
 "metadata": {
  "kernelspec": {
   "display_name": "Python 3 (ipykernel)",
   "language": "python",
   "name": "python3"
  },
  "language_info": {
   "codemirror_mode": {
    "name": "ipython",
    "version": 3
   },
   "file_extension": ".py",
   "mimetype": "text/x-python",
   "name": "python",
   "nbconvert_exporter": "python",
   "pygments_lexer": "ipython3",
   "version": "3.9.14"
  }
 },
 "nbformat": 4,
 "nbformat_minor": 5
}

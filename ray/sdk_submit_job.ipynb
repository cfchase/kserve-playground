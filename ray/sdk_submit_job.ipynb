{
 "cells": [
  {
   "cell_type": "markdown",
   "id": "91de7964-c110-4c18-8849-85af0eaa451c",
   "metadata": {},
   "source": [
    "# Test submitting jobs to a running Ray cluster"
   ]
  },
  {
   "cell_type": "markdown",
   "id": "e2596f8c-0e7d-489b-acab-f1f36ddc38ad",
   "metadata": {
    "tags": []
   },
   "source": [
    "## Setup"
   ]
  },
  {
   "cell_type": "code",
   "execution_count": null,
   "id": "10c08aae-b802-43a4-bb4a-39159b874f79",
   "metadata": {
    "tags": []
   },
   "outputs": [],
   "source": [
    "!pip install ray"
   ]
  },
  {
   "cell_type": "markdown",
   "id": "8b58f059-4d66-43bc-8f6f-1b5566a9100f",
   "metadata": {},
   "source": [
    "### Use Kube service corresponding to the Ray cluster"
   ]
  },
  {
   "cell_type": "code",
   "execution_count": null,
   "id": "4ccb04ef-abea-4a53-a0ab-026f5d7beb77",
   "metadata": {},
   "outputs": [],
   "source": [
    "RAY_DASHBOARD = \"http://raycluster-codeflare-head-svc:8265\"\n",
    "SCRIPT = \"hello_ray.py\""
   ]
  },
  {
   "cell_type": "markdown",
   "id": "e50c1c64-f26f-4d12-b75e-f75a982bfb24",
   "metadata": {},
   "source": [
    "## Testing job submission"
   ]
  },
  {
   "cell_type": "code",
   "execution_count": null,
   "id": "b4dbee70-b3a1-4ebe-b874-a7df82cfc3de",
   "metadata": {
    "tags": []
   },
   "outputs": [],
   "source": [
    "from ray.job_submission import JobSubmissionClient\n",
    "\n",
    "# If using a remote cluster, replace 127.0.0.1 with the head node's IP address.\n",
    "client = JobSubmissionClient(RAY_DASHBOARD)\n",
    "job_id = client.submit_job(\n",
    "    # Entrypoint shell command to execute\n",
    "    entrypoint=f\"python {SCRIPT}\",\n",
    "    # Path to the local directory that contains the script.py file\n",
    "    runtime_env={\"working_dir\": \"./\"}\n",
    ")\n",
    "print(job_id)"
   ]
  },
  {
   "cell_type": "code",
   "execution_count": null,
   "id": "852698c3-dd36-4398-be0f-c5e578dd7ed9",
   "metadata": {},
   "outputs": [],
   "source": [
    "from ray.job_submission import JobSubmissionClient, JobStatus\n",
    "import time\n",
    "\n",
    "# If using a remote cluster, replace 127.0.0.1 with the head node's IP address.\n",
    "client = JobSubmissionClient(RAY_DASHBOARD)\n",
    "job_id = client.submit_job(\n",
    "    # Entrypoint shell command to execute\n",
    "    entrypoint=f\"python {SCRIPT}\",\n",
    "    # Path to the local directory that contains the script.py file\n",
    "    runtime_env={\"working_dir\": \"./\"}\n",
    ")\n",
    "print(job_id)\n",
    "\n",
    "def wait_until_status(job_id, status_to_wait_for, timeout_seconds=5):\n",
    "    start = time.time()\n",
    "    while time.time() - start <= timeout_seconds:\n",
    "        status = client.get_job_status(job_id)\n",
    "        print(f\"status: {status}\")\n",
    "        if status in status_to_wait_for:\n",
    "            break\n",
    "        time.sleep(1)\n",
    "\n",
    "\n",
    "wait_until_status(job_id, {JobStatus.SUCCEEDED, JobStatus.STOPPED, JobStatus.FAILED})\n",
    "logs = client.get_job_logs(job_id)\n",
    "print(logs)"
   ]
  },
  {
   "cell_type": "markdown",
   "id": "7bd5d864-608a-46a8-b460-3c2bd0519dec",
   "metadata": {},
   "source": [
    "## Interacting with Long-running Jobs"
   ]
  },
  {
   "cell_type": "code",
   "execution_count": null,
   "id": "9039e3d0-b455-4ce6-8235-2a571a964c61",
   "metadata": {
    "tags": []
   },
   "outputs": [],
   "source": [
    "job_id = client.submit_job(\n",
    "    # Entrypoint shell command to execute\n",
    "    entrypoint=\"python -c 'import time; print(\\\"Sleeping...\\\"); time.sleep(60)'\"\n",
    ")\n",
    "wait_until_status(job_id, {JobStatus.RUNNING})\n",
    "print(f'Stopping job {job_id}')\n",
    "client.stop_job(job_id)\n",
    "wait_until_status(job_id, {JobStatus.SUCCEEDED, JobStatus.STOPPED, JobStatus.FAILED})\n",
    "logs = client.get_job_logs(job_id)\n",
    "print(logs)"
   ]
  },
  {
   "cell_type": "markdown",
   "id": "fa3a2d7d-60fe-4e16-ae3f-154c94cb3288",
   "metadata": {},
   "source": [
    "## Dependency Management"
   ]
  },
  {
   "cell_type": "code",
   "execution_count": null,
   "id": "418b4323-93ff-4c8d-9dea-a2407aeae7b6",
   "metadata": {},
   "outputs": [],
   "source": [
    "job_id = client.submit_job(\n",
    "    # Entrypoint shell command to execute\n",
    "    entrypoint=f\"python {SCRIPT}\",\n",
    "    # Runtime environment for the job, specifying a working directory and pip package\n",
    "    runtime_env={\n",
    "        \"working_dir\": \"./\",\n",
    "        \"pip\": [\"requests==2.26.0\"]\n",
    "    }\n",
    ")"
   ]
  }
 ],
 "metadata": {
  "kernelspec": {
   "display_name": "Python 3 (ipykernel)",
   "language": "python",
   "name": "python3"
  },
  "language_info": {
   "codemirror_mode": {
    "name": "ipython",
    "version": 3
   },
   "file_extension": ".py",
   "mimetype": "text/x-python",
   "name": "python",
   "nbconvert_exporter": "python",
   "pygments_lexer": "ipython3",
   "version": "3.9.14"
  }
 },
 "nbformat": 4,
 "nbformat_minor": 5
}

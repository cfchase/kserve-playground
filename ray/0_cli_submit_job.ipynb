{
 "cells": [
  {
   "cell_type": "markdown",
   "id": "91de7964-c110-4c18-8849-85af0eaa451c",
   "metadata": {},
   "source": [
    "# Test submitting jobs to a running Ray cluster"
   ]
  },
  {
   "cell_type": "markdown",
   "id": "e2596f8c-0e7d-489b-acab-f1f36ddc38ad",
   "metadata": {
    "tags": []
   },
   "source": [
    "## Install Dependencies"
   ]
  },
  {
   "cell_type": "code",
   "execution_count": null,
   "id": "10c08aae-b802-43a4-bb4a-39159b874f79",
   "metadata": {
    "tags": []
   },
   "outputs": [],
   "source": [
    "!pip install ray"
   ]
  },
  {
   "cell_type": "code",
   "execution_count": null,
   "id": "77db45ba-9329-4766-8f6e-a6c59993c28d",
   "metadata": {},
   "outputs": [],
   "source": [
    "RAY_DASHBOARD = \"http://raycluster-codeflare-head-svc:8265\"\n",
    "SCRIPT = \"hello_ray.py\""
   ]
  },
  {
   "cell_type": "markdown",
   "id": "e50c1c64-f26f-4d12-b75e-f75a982bfb24",
   "metadata": {},
   "source": [
    "### Testing job submission with inline code"
   ]
  },
  {
   "cell_type": "code",
   "execution_count": null,
   "id": "b4dbee70-b3a1-4ebe-b874-a7df82cfc3de",
   "metadata": {
    "tags": []
   },
   "outputs": [],
   "source": [
    "!ray job submit --address $RAY_DASHBOARD -- python -c \"import ray; ray.init(); print(ray.cluster_resources())\""
   ]
  },
  {
   "cell_type": "markdown",
   "id": "7bd5d864-608a-46a8-b460-3c2bd0519dec",
   "metadata": {},
   "source": [
    "### Testing job submission with hello world python"
   ]
  },
  {
   "cell_type": "code",
   "execution_count": null,
   "id": "9039e3d0-b455-4ce6-8235-2a571a964c61",
   "metadata": {
    "tags": []
   },
   "outputs": [],
   "source": [
    "!ray job submit --address $RAY_DASHBOARD --working-dir ./ -- python $SCRIPT\n"
   ]
  },
  {
   "cell_type": "code",
   "execution_count": null,
   "id": "c9af653b-8f27-4217-b51c-516e41df1ef6",
   "metadata": {},
   "outputs": [],
   "source": []
  }
 ],
 "metadata": {
  "kernelspec": {
   "display_name": "Python 3 (ipykernel)",
   "language": "python",
   "name": "python3"
  },
  "language_info": {
   "codemirror_mode": {
    "name": "ipython",
    "version": 3
   },
   "file_extension": ".py",
   "mimetype": "text/x-python",
   "name": "python",
   "nbconvert_exporter": "python",
   "pygments_lexer": "ipython3",
   "version": "3.9.14"
  }
 },
 "nbformat": 4,
 "nbformat_minor": 5
}

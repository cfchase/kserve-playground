{
 "cells": [
  {
   "cell_type": "markdown",
   "id": "91de7964-c110-4c18-8849-85af0eaa451c",
   "metadata": {},
   "source": [
    "# Test submitting jobs to a running Ray cluster"
   ]
  },
  {
   "cell_type": "markdown",
   "id": "e2596f8c-0e7d-489b-acab-f1f36ddc38ad",
   "metadata": {
    "tags": []
   },
   "source": [
    "## Setup"
   ]
  },
  {
   "cell_type": "code",
   "execution_count": null,
   "id": "10c08aae-b802-43a4-bb4a-39159b874f79",
   "metadata": {
    "tags": []
   },
   "outputs": [],
   "source": [
    "!pip install ray"
   ]
  },
  {
   "cell_type": "markdown",
   "id": "8b58f059-4d66-43bc-8f6f-1b5566a9100f",
   "metadata": {},
   "source": [
    "### Use Kube service corresponding to the Ray cluster"
   ]
  },
  {
   "cell_type": "code",
   "execution_count": null,
   "id": "4ccb04ef-abea-4a53-a0ab-026f5d7beb77",
   "metadata": {},
   "outputs": [],
   "source": [
    "RAY_DASHBOARD = \"http://raycluster-codeflare-head-svc:8265\"\n",
    "SCRIPT = \"s3_upload_download.py\""
   ]
  },
  {
   "cell_type": "markdown",
   "id": "e50c1c64-f26f-4d12-b75e-f75a982bfb24",
   "metadata": {},
   "source": [
    "## Testing S3 Access"
   ]
  },
  {
   "cell_type": "code",
   "execution_count": null,
   "id": "852698c3-dd36-4398-be0f-c5e578dd7ed9",
   "metadata": {},
   "outputs": [],
   "source": [
    "from ray.job_submission import JobSubmissionClient, JobStatus\n",
    "import time\n",
    "\n",
    "# If using a remote cluster, replace 127.0.0.1 with the head node's IP address.\n",
    "client = JobSubmissionClient(RAY_DASHBOARD)\n",
    "job_id = client.submit_job(\n",
    "    # Entrypoint shell command to execute\n",
    "    entrypoint=f\"python {SCRIPT}\",\n",
    "    # Path to the local directory that contains the script.py file\n",
    "    runtime_env={\n",
    "        \"working_dir\": \"./\",\n",
    "        \"pip\": [\"boto3\", \"botocore\"]\n",
    "    }\n",
    ")\n",
    "print(job_id)\n",
    "\n",
    "def wait_until_status(job_id, status_to_wait_for, timeout_seconds=5):\n",
    "    start = time.time()\n",
    "    while time.time() - start <= timeout_seconds:\n",
    "        status = client.get_job_status(job_id)\n",
    "        print(f\"status: {status}\")\n",
    "        if status in status_to_wait_for:\n",
    "            break\n",
    "        time.sleep(1)\n",
    "\n",
    "\n",
    "wait_until_status(job_id, {JobStatus.SUCCEEDED, JobStatus.STOPPED, JobStatus.FAILED})\n",
    "logs = client.get_job_logs(job_id)\n",
    "print(logs)"
   ]
  },
  {
   "cell_type": "code",
   "execution_count": null,
   "id": "e98bd7af-3688-47cc-aeba-0f34ba36d37c",
   "metadata": {},
   "outputs": [],
   "source": []
  }
 ],
 "metadata": {
  "kernelspec": {
   "display_name": "Python 3 (ipykernel)",
   "language": "python",
   "name": "python3"
  },
  "language_info": {
   "codemirror_mode": {
    "name": "ipython",
    "version": 3
   },
   "file_extension": ".py",
   "mimetype": "text/x-python",
   "name": "python",
   "nbconvert_exporter": "python",
   "pygments_lexer": "ipython3",
   "version": "3.9.14"
  }
 },
 "nbformat": 4,
 "nbformat_minor": 5
}

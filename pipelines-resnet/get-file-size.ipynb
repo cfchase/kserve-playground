{
 "cells": [
  {
   "cell_type": "code",
   "execution_count": null,
   "id": "6c6f3152-545a-4bbb-8c1c-c57eee100d76",
   "metadata": {},
   "outputs": [],
   "source": [
    "import os\n",
    "\n",
    "file_path = \"resnet50-caffe2-v1-9.onnx\"\n",
    "file_size = os.path.getsize(file_path)\n",
    "\n",
    "print(f'The size of {file_path} is {file_size} bytes')"
   ]
  },
  {
   "cell_type": "code",
   "execution_count": null,
   "id": "7210cf29-554c-4ff0-bb14-80b99ec45f4f",
   "metadata": {},
   "outputs": [],
   "source": []
  }
 ],
 "metadata": {
  "kernelspec": {
   "display_name": "Python 3.9.16",
   "language": "python",
   "name": "python3"
  },
  "language_info": {
   "codemirror_mode": {
    "name": "ipython",
    "version": 3
   },
   "file_extension": ".py",
   "mimetype": "text/x-python",
   "name": "python",
   "nbconvert_exporter": "python",
   "pygments_lexer": "ipython3",
   "version": "3.9.16"
  }
 },
 "nbformat": 4,
 "nbformat_minor": 5
}

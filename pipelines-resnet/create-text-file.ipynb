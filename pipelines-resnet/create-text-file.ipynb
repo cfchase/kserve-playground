{
 "cells": [
  {
   "cell_type": "code",
   "execution_count": null,
   "id": "ec530590-a5a3-4915-a74a-c2863a95aeae",
   "metadata": {},
   "outputs": [],
   "source": [
    "with open(data_path, \"w\") as f:\n",
    "    for i in range(1, 1000000):\n",
    "        f.write(f\"This is a very long line.  It's line number {i} \\n\")\n",
    "print(\"done\")\n"
   ]
  },
  {
   "cell_type": "code",
   "execution_count": null,
   "id": "800afa26-0d13-4238-a97a-e7862d1a7caa",
   "metadata": {},
   "outputs": [],
   "source": []
  },
  {
   "cell_type": "code",
   "execution_count": null,
   "id": "3964a3f3-b6ff-4992-9951-94e0515900f5",
   "metadata": {},
   "outputs": [],
   "source": []
  }
 ],
 "metadata": {
  "kernelspec": {
   "display_name": "Python 3.9.16",
   "language": "python",
   "name": "python3"
  },
  "language_info": {
   "codemirror_mode": {
    "name": "ipython",
    "version": 3
   },
   "file_extension": ".py",
   "mimetype": "text/x-python",
   "name": "python",
   "nbconvert_exporter": "python",
   "pygments_lexer": "ipython3",
   "version": "3.9.16"
  }
 },
 "nbformat": 4,
 "nbformat_minor": 5
}

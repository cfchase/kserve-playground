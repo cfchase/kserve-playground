{
 "cells": [
  {
   "cell_type": "code",
   "execution_count": 1,
   "id": "ec530590-a5a3-4915-a74a-c2863a95aeae",
   "metadata": {},
   "outputs": [
    {
     "name": "stdout",
     "output_type": "stream",
     "text": [
      "starting download...\n",
      "done\n",
      "Elapsed time: 2.547533 seconds\n"
     ]
    }
   ],
   "source": [
    "import time\n",
    "\n",
    "# Record the starting time\n",
    "start_time = time.time()\n",
    "\n",
    "import urllib.request\n",
    "\n",
    "print(\"starting download...\")\n",
    "url = \"https://rhods-public.s3.amazonaws.com/demo-models/resnet50-onnx/1/resnet50-caffe2-v1-9.onnx\"\n",
    "output = \"resnet50-caffe2-v1-9.onnx\"\n",
    "urllib.request.urlretrieve(url, output)\n",
    "print(\"done\")\n",
    "\n",
    "# Record the ending time\n",
    "end_time = time.time()\n",
    "\n",
    "# Calculate the elapsed time\n",
    "elapsed_time = end_time - start_time\n",
    "print(f\"Elapsed time: {elapsed_time:.6f} seconds\")"
   ]
  },
  {
   "cell_type": "code",
   "execution_count": null,
   "id": "800afa26-0d13-4238-a97a-e7862d1a7caa",
   "metadata": {},
   "outputs": [],
   "source": []
  },
  {
   "cell_type": "code",
   "execution_count": null,
   "id": "3964a3f3-b6ff-4992-9951-94e0515900f5",
   "metadata": {},
   "outputs": [],
   "source": []
  }
 ],
 "metadata": {
  "kernelspec": {
   "display_name": "Python 3.9.16",
   "language": "python",
   "name": "python3"
  },
  "language_info": {
   "codemirror_mode": {
    "name": "ipython",
    "version": 3
   },
   "file_extension": ".py",
   "mimetype": "text/x-python",
   "name": "python",
   "nbconvert_exporter": "python",
   "pygments_lexer": "ipython3",
   "version": "3.9.16"
  }
 },
 "nbformat": 4,
 "nbformat_minor": 5
}
